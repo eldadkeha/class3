{
 "cells": [
  {
   "cell_type": "code",
   "execution_count": 23,
   "id": "0249228b-37bb-49aa-bf70-8b349594065b",
   "metadata": {},
   "outputs": [
    {
     "data": {
      "application/vnd.jupyter.widget-view+json": {
       "model_id": "7069703615874df9a9890a38d665c388",
       "version_major": 2,
       "version_minor": 0
      },
      "text/plain": [
       "interactive(children=(IntSlider(value=5, description='Number_Of_Samples', layout=Layout(width='800px'), max=10…"
      ]
     },
     "metadata": {},
     "output_type": "display_data"
    }
   ],
   "source": [
    "# nbi:hide_in \n",
    "import pandas as pd\n",
    "import seaborn as sns\n",
    "import numpy as np\n",
    "import matplotlib.pyplot as plt\n",
    "from ipywidgets import interact, interactive, fixed, interact_manual, Layout\n",
    "import ipywidgets as widgets\n",
    "import random\n",
    "import math\n",
    "\n",
    "data2 = pd.read_csv(\"data2.csv\")\n",
    "heightSim = data2['Height']\n",
    "\n",
    "def mean_boot(Number_Of_Samples=5, Sample_Size = 30):  \n",
    "  np.random.seed(1)\n",
    "  meanHeight = np.zeros(Number_Of_Samples)\n",
    "  for i in range(Number_Of_Samples):\n",
    "      SampledHeight=random.choices(heightSim, k=Sample_Size)\n",
    "      meanHeight[i]=np.mean(SampledHeight)\n",
    "      \n",
    "        \n",
    "  meanMeanHieght=np.mean(meanHeight)\n",
    "  stdMeanHeight=np.round(np.std(meanHeight), decimals = 3)\n",
    "  sns.displot(meanHeight, kde=False, rug=True, height=5,aspect = 2, color = \"mediumpurple\");\n",
    "  plt.axvline(x=meanMeanHieght, color='purple', linestyle='-',label= meanMeanHieght);\n",
    "  plt.xlim(160, 175)\n",
    "  plt.xlabel('Along the X axis are the values of the different means of the different samples we took from the population');\n",
    "  plt.ylabel('Frequency');\n",
    "  \n",
    "  STDEHeight = np.round(10.62/math.sqrt(Sample_Size), decimals = 3)\n",
    "\n",
    "  plt.legend([\"Standart Deviation of the population = 10.62\", \"Standart Error = \" + str(stdMeanHeight), \"Standart Error of all possible means = \" + str(STDEHeight)],fontsize = 12)\n",
    "int_widget = interactive(mean_boot,Number_Of_Samples=(5,1000,5), Sample_Size=(2,1000))\n",
    "int_widget.children[0].layout = Layout(width='800px')\n",
    "int_widget.children[1].layout = Layout(width='800px')\n",
    "display(int_widget)\n"
   ]
  },
  {
   "cell_type": "code",
   "execution_count": null,
   "id": "7efe1432-e0ca-4f8a-ac1d-fe9c371cc7f9",
   "metadata": {},
   "outputs": [],
   "source": []
  }
 ],
 "metadata": {
  "kernelspec": {
   "display_name": "Python 3 (ipykernel)",
   "language": "python",
   "name": "python3"
  },
  "language_info": {
   "codemirror_mode": {
    "name": "ipython",
    "version": 3
   },
   "file_extension": ".py",
   "mimetype": "text/x-python",
   "name": "python",
   "nbconvert_exporter": "python",
   "pygments_lexer": "ipython3",
   "version": "3.7.12"
  }
 },
 "nbformat": 4,
 "nbformat_minor": 5
}
